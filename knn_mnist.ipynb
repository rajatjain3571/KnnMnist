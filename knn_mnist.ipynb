{
 "cells": [
  {
   "cell_type": "markdown",
   "metadata": {},
   "source": [
    "# KNN on Mnist Dataset from scratch\n",
    "\n"
   ]
  },
  {
   "cell_type": "markdown",
   "metadata": {},
   "source": [
    "Importing Library"
   ]
  },
  {
   "cell_type": "code",
   "execution_count": null,
   "metadata": {},
   "outputs": [],
   "source": [
    "import numpy as np\n",
    "from collections import Counter\n",
    "import csv\n",
    "import operator as op\n",
    "import time"
   ]
  },
  {
   "cell_type": "markdown",
   "metadata": {},
   "source": [
    "# Assignment Checkpoint 1"
   ]
  },
  {
   "cell_type": "markdown",
   "metadata": {},
   "source": [
    "Loading Mnist Dataset:\n",
    "    1. Reading csv file\n",
    "    2. While returning dataset, performing some basic manpulation as follows\n",
    "        a. training and test set first received with addition column of labels\n",
    "        b. seperated training and testing images from labels and returned images and labels"
   ]
  },
  {
   "cell_type": "code",
   "execution_count": null,
   "metadata": {},
   "outputs": [],
   "source": [
    "def load_mnist():\n",
    "    \n",
    "    with open(\"mnist_train.csv\") as fl:\n",
    "        rd = csv.reader(fl)\n",
    "        trn_im = list(rd)\n",
    "        trn_ = []\n",
    "        for i in trn_im:\n",
    "            i = list(map(int, i))\n",
    "            trn_.append(i)\n",
    "\n",
    "    with open(\"mnist_test.csv\") as fl:\n",
    "        rd = csv.reader(fl)\n",
    "        tst_im = list(rd)\n",
    "        tst_=[]\n",
    "        for j in tst_im:\n",
    "            j = list(map(int, j))\n",
    "            tst_.append(j)\n",
    "\n",
    "\n",
    "    return np.array(trn_)[:,1:np.shape(trn_)[1]], np.array(tst_)[:,1:np.shape(tst_)[1]],np.array(trn_)[:,0], np.array(tst_)[:,0]\n"
   ]
  },
  {
   "cell_type": "markdown",
   "metadata": {},
   "source": [
    "Let's get started : Loading all data set"
   ]
  },
  {
   "cell_type": "code",
   "execution_count": null,
   "metadata": {},
   "outputs": [],
   "source": [
    "train, test,train_label,test_label = load_mnist()\n"
   ]
  },
  {
   "cell_type": "markdown",
   "metadata": {},
   "source": [
    "Calculating Euclidean Distance:\n",
    "    1. Formula for euclidean distance is sqrt(sum(square(a-b)))\n",
    "    2. The above formula can also be written as sqrt(sum(-2*ab+square(a)+square(b)))\n",
    "    3. Using matrices manuplations for calculating euclidean distance of all testing images with training images\n"
   ]
  },
  {
   "cell_type": "code",
   "execution_count": null,
   "metadata": {},
   "outputs": [],
   "source": [
    "def calculate_euclidean_distance(train_x, test_x):\n",
    "    aDotb = np.dot(test_x, train_x.T)\n",
    "    aSquare = np.square(test_x).sum(axis = 1)\n",
    "    bSquare = np.square(train_x).sum(axis = 1)\n",
    "    distance = np.sqrt(-2*aDotb + bSquare + np.matrix(aSquare).T)\n",
    "    return distance"
   ]
  },
  {
   "cell_type": "markdown",
   "metadata": {},
   "source": [
    "Finding indexes of k nearest neighbors using distances we got from calculate_euclidean_distance function"
   ]
  },
  {
   "cell_type": "code",
   "execution_count": null,
   "metadata": {},
   "outputs": [],
   "source": [
    "def get_neighbor(distance,k):\n",
    "    setSize = np.shape(distance)[0]\n",
    "    \n",
    "    neighbors = np.zeros((setSize,k))\n",
    "    for j in range(0,setSize):\n",
    "        neighbors[j] = np.argsort(distance[j])[:,0:k]\n",
    "    return neighbors.astype(int)"
   ]
  },
  {
   "cell_type": "markdown",
   "metadata": {},
   "source": [
    "From get_neighbor function we got indices of all the neighbors. Now below function will predict labels using those indices"
   ]
  },
  {
   "cell_type": "code",
   "execution_count": null,
   "metadata": {},
   "outputs": [],
   "source": [
    "def predict(neighbors,train_y):\n",
    "    labels = train_y[neighbors]\n",
    "    predictions = []\n",
    "    for i in range(0,np.shape(labels)[0]):\n",
    "        sd, cv = np.unique(labels[i,:], return_counts = True)\n",
    "        dc = dict(zip(sd,cv))\n",
    "        z  = max(dc.items(), key = op.itemgetter(1))[0]\n",
    "        predictions.append(z)\n",
    "\n",
    "    return predictions"
   ]
  },
  {
   "cell_type": "markdown",
   "metadata": {},
   "source": [
    "Calculating accuracy from our predictions"
   ]
  },
  {
   "cell_type": "code",
   "execution_count": null,
   "metadata": {},
   "outputs": [],
   "source": [
    "def accuracy_score(predictions,actual):\n",
    "    return (sum(predictions==actual)/len(predictions))*100\n",
    "    "
   ]
  },
  {
   "cell_type": "markdown",
   "metadata": {},
   "source": [
    "# Assignment Checkpoint 2"
   ]
  },
  {
   "cell_type": "markdown",
   "metadata": {},
   "source": [
    "Program the k-Nearest Neighbor classifier algorithm with Euclidean distance for k=1 in Python\n",
    "\n",
    "Accuracy : 96.91"
   ]
  },
  {
   "cell_type": "code",
   "execution_count": null,
   "metadata": {},
   "outputs": [],
   "source": [
    "start = time.time()\n",
    "k = 1\n",
    "\n",
    "euclideanDistance =calculate_euclidean_distance(train, test)\n",
    "neighbors=get_neighbor(euclideanDistance,k)\n",
    "predictions = predict(neighbors,train_label)\n",
    "\n",
    "print(accuracy_score(predictions,test_label))\n",
    "\n",
    "end=time.time()\n",
    "print(\"Excecution time for k as 1 is \",end-start, \"seconds\")\n"
   ]
  },
  {
   "cell_type": "markdown",
   "metadata": {},
   "source": [
    "# Assignment Checkpoint 3 and 4"
   ]
  },
  {
   "cell_type": "markdown",
   "metadata": {},
   "source": [
    "Apply 10-fold cross validation to find the optimal k (assuming k ranges from 1-10) for k-NN algorithm with Euclidean distance Note that these 10 folds should be selected from the training set."
   ]
  },
  {
   "cell_type": "code",
   "execution_count": null,
   "metadata": {},
   "outputs": [],
   "source": [
    "start = time.time()\n",
    "\n",
    "setSize=(int)(train.shape[0]/10)\n",
    "acc={1:[],2:[],3:[],4:[],5:[],6:[],7:[],8:[],9:[],10:[]}\n",
    "pred=[]\n",
    "for i in range(0,10):\n",
    "    \n",
    "    val_set=train[i*setSize:(i+1)*setSize,:]\n",
    "    val_label=train_label[i*setSize:(i+1)*setSize,]\n",
    "    train_set=np.delete(train,slice(i*setSize,(i+1)*setSize),0)\n",
    "    train_lbl=np.delete(train_label,slice(i*setSize,(i+1)*setSize,))\n",
    "  \n",
    "    euclideanDistance =calculate_euclidean_distance(train_set, val_set)\n",
    "    for k in range(1,11):\n",
    "        neighbors=get_neighbor(euclideanDistance,k)\n",
    "        predictions = predict(neighbors,train_lbl)\n",
    "        acc[k].append(accuracy_score(predictions,val_label))\n",
    "        pred\n",
    "\n",
    "averageAcc=[]\n",
    "for j in range(1,11):\n",
    "    averageAcc.append(np.sum(acc[j])/10)\n",
    "    print(\"Average accuracy when k was \",j,\"is \",np.sum(acc[j])/10)             \n",
    "\n",
    "maxIndex=np.argmax(averageAcc)\n",
    "\n",
    "\n",
    "\n",
    "\n",
    "print(\"_________________________\\n\")\n",
    "print(\"Optimal K is \", maxIndex+1,\" with accuracy as \",averageAcc[maxIndex]) #maxIndex +1 is because list starts from 0\n",
    "\n",
    "optimalK=maxIndex+1\n",
    "accuracy_kOptimal=averageAcc[maxIndex]\n",
    "\n",
    "\n",
    "\"the code you want to test stays here\"\n",
    "end = time.time()\n",
    "print(\"Cross Validation execution time is \",end-start)"
   ]
  },
  {
   "cell_type": "markdown",
   "metadata": {},
   "source": [
    "Now Running for Optimal K"
   ]
  },
  {
   "cell_type": "code",
   "execution_count": null,
   "metadata": {},
   "outputs": [],
   "source": [
    "euclideanDistance =calculate_euclidean_distance(train, test)\n",
    "neighbors=get_neighbor(euclideanDistance,optimalK)\n",
    "predictions = predict(neighbors,train_label)"
   ]
  },
  {
   "cell_type": "markdown",
   "metadata": {},
   "source": [
    "# Assignment Checkpoint 5"
   ]
  },
  {
   "cell_type": "markdown",
   "metadata": {},
   "source": [
    "Confusion matrix and classification accuracy with confidence interval"
   ]
  },
  {
   "cell_type": "code",
   "execution_count": null,
   "metadata": {},
   "outputs": [],
   "source": [
    "def confusion_matrix(y_true,y_pred):\n",
    "\n",
    "    actual = np.array(y_true)\n",
    "    predicted = np.array(y_pred)\n",
    "    cm = np.zeros((10, 10))\n",
    "    for a, p in zip(actual, predicted):\n",
    "        cm[a][p] += 1\n",
    "\n",
    "    return cm"
   ]
  },
  {
   "cell_type": "code",
   "execution_count": null,
   "metadata": {},
   "outputs": [],
   "source": [
    "def printMatrix(s):\n",
    "\n",
    "    print(\"     \", end=\"\")\n",
    "    for j in range(len(s[0])):\n",
    "        \n",
    "        print(\"%5d \" % j, end=\"\")\n",
    "    print()\n",
    "    print(\"     \", end=\"\")\n",
    "    for j in range(len(s[0])):\n",
    "        print(\"------\", end=\"\")\n",
    "    print()\n",
    "    \n",
    "    for i in range(len(s)):\n",
    "        \n",
    "        print(\"%3d |\" % (i), end=\"\") \n",
    "        for j in range(len(s[0])):\n",
    "            print(\"%5d \" % (s[i][j]), end=\"\")\n",
    "        print()\n"
   ]
  },
  {
   "cell_type": "code",
   "execution_count": null,
   "metadata": {},
   "outputs": [],
   "source": [
    "printMatrix(confusion_matrix(test_label,predictions))"
   ]
  },
  {
   "cell_type": "code",
   "execution_count": null,
   "metadata": {},
   "outputs": [],
   "source": [
    "def calculate_confidence_interval(accuracy):\n",
    "    p=accuracy/100\n",
    "    \n",
    "    variance = np.sqrt((p*(1-p))/10000)\n",
    "    cminus=p-(1.96*variance)\n",
    "    cplus=p+(1.96*variance)\n",
    "    return (cminus,cplus)"
   ]
  },
  {
   "cell_type": "code",
   "execution_count": null,
   "metadata": {
    "scrolled": true
   },
   "outputs": [],
   "source": [
    "print(\"Confidence Interval for optimal k is \",calculate_confidence_interval(accuracy_kOptimal))"
   ]
  },
  {
   "cell_type": "code",
   "execution_count": null,
   "metadata": {},
   "outputs": [],
   "source": [
    "def pad_with(vector, pad_width, iaxis, kwargs):\n",
    "    pad_value = kwargs.get('padder', 0)\n",
    "    vector[:pad_width[0]] = pad_value\n",
    "    vector[-pad_width[1]:] = pad_value\n",
    "    return vector\n"
   ]
  },
  {
   "cell_type": "code",
   "execution_count": null,
   "metadata": {},
   "outputs": [],
   "source": []
  },
  {
   "cell_type": "markdown",
   "metadata": {},
   "source": [
    "# Assignment Checkpoint 6 and 7"
   ]
  },
  {
   "cell_type": "markdown",
   "metadata": {},
   "source": [
    "Sliding Window, Confusion Matrix, Confidence Interval"
   ]
  },
  {
   "cell_type": "code",
   "execution_count": null,
   "metadata": {},
   "outputs": [],
   "source": [
    "eucl= np.zeros((test.shape[0],train.shape[0]))\n",
    "for i in range(train.shape[0]):\n",
    "    t=train[i]\n",
    "    ret=np.pad(np.reshape(t,(28,28)),1,pad_with)\n",
    "    \n",
    "    tempt=np.zeros((9,train.shape[1]))\n",
    "    tempt[0]=t\n",
    "    tempt[1]=np.reshape(ret[0:28,0:28],(1,28*28))\n",
    "    tempt[2]=np.reshape(ret[1:29,0:28],(1,28*28))\n",
    "    tempt[3]=np.reshape(ret[2:30,0:28],(1,28*28))\n",
    "    tempt[4]=np.reshape(ret[0:28,1:29],(1,28*28))\n",
    "    tempt[5]=np.reshape(ret[0:28,2:30],(1,28*28))\n",
    "    tempt[6]=np.reshape(ret[2:30,2:30],(1,28*28))\n",
    "    tempt[7]=np.reshape(ret[1:29,2:30],(1,28*28))\n",
    "    tempt[8]=np.reshape(ret[2:30,1:29],(1,28*28))\n",
    "    euclidean=calculate_euclidean_distance(tempt, test)\n",
    "\n",
    "    \n",
    "    for c in range(euclidean.shape[0]):\n",
    "        \n",
    "        min_value=np.min(euclidean[c][:])\n",
    "        \n",
    "        eucl[c,i]=min_value\n",
    "\n",
    "        \n",
    "        \n",
    "    \n",
    "    \n",
    "    \n",
    "neighbors=get_neighbor(np.matrix(eucl),optimalK)\n",
    "predictions = predict(neighbors,train_label)\n",
    "printMatrix(confusion_matrix(test_label,predictions))\n",
    "accuracy_window=accuracy_score(predictions,test_label)\n",
    "print(\"Confidence interval for window slide is \",calculate_confidence_interval(accuracy_window))\n",
    "print(\"Accuracy of window sliding with Otimale k as 3 is \",accuracy_window)    \n",
    "    "
   ]
  },
  {
   "cell_type": "markdown",
   "metadata": {},
   "source": [
    "# Assignment Checkpoint 8"
   ]
  },
  {
   "cell_type": "markdown",
   "metadata": {},
   "source": [
    "Siginificance Testing and Difference rule is explained in report"
   ]
  },
  {
   "cell_type": "code",
   "execution_count": null,
   "metadata": {},
   "outputs": [],
   "source": [
    "def siginificance_testing(accuracy1,accuracy2):\n",
    "    p1=accuracy1/100\n",
    "    p2=accuracy2/100\n",
    "    print(\"Null Hypothesis is that accuracy 1 == accuracy 2\\n\")\n",
    "    print(\"Alternate Hypothesis is that accuracy 1 != accuracy2\\n\")\n",
    "\n",
    "    diff= p2-p1\n",
    "\n",
    "    if(diff==0):\n",
    "        print(\"Null Hypothesis is true\")\n",
    "    else:\n",
    "        a=(p2+p1)/2\n",
    "        print(a)\n",
    "        SD=np.sqrt((a*(1-a))/20000)\n",
    "        print(SD)\n",
    "        cminus=-1*1.96*SD\n",
    "        cplus=1.96*SD\n",
    "        if(diff>cplus):\n",
    "            print(\"We are rejecting null hypothesis\")\n",
    "        else:\n",
    "            if(diff<cminus):\n",
    "                print(\"We are rejecting null hypothesis\")\n",
    "            else:\n",
    "                print(\"We are accepting null hypothesis\")\n",
    "   \n",
    "    \n",
    "siginificance_testing(accuracy_kOptimal,accuracy_window)"
   ]
  },
  {
   "cell_type": "code",
   "execution_count": null,
   "metadata": {},
   "outputs": [],
   "source": []
  },
  {
   "cell_type": "code",
   "execution_count": null,
   "metadata": {},
   "outputs": [],
   "source": []
  },
  {
   "cell_type": "code",
   "execution_count": null,
   "metadata": {},
   "outputs": [],
   "source": []
  }
 ],
 "metadata": {
  "kernelspec": {
   "display_name": "Python 3",
   "language": "python",
   "name": "python3"
  },
  "language_info": {
   "codemirror_mode": {
    "name": "ipython",
    "version": 3
   },
   "file_extension": ".py",
   "mimetype": "text/x-python",
   "name": "python",
   "nbconvert_exporter": "python",
   "pygments_lexer": "ipython3",
   "version": "3.6.5"
  }
 },
 "nbformat": 4,
 "nbformat_minor": 2
}
